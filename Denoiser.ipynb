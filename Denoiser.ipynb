{
  "nbformat": 4,
  "nbformat_minor": 0,
  "metadata": {
    "colab": {
      "provenance": [],
      "gpuType": "T4",
      "authorship_tag": "ABX9TyM9balXLC/3tZP9p37holEY",
      "include_colab_link": true
    },
    "kernelspec": {
      "name": "python3",
      "display_name": "Python 3"
    },
    "language_info": {
      "name": "python"
    },
    "accelerator": "GPU"
  },
  "cells": [
    {
      "cell_type": "markdown",
      "metadata": {
        "id": "view-in-github",
        "colab_type": "text"
      },
      "source": [
        "<a href=\"https://colab.research.google.com/github/d3jo/TTS_Denoiser/blob/main/Denoiser.ipynb\" target=\"_parent\"><img src=\"https://colab.research.google.com/assets/colab-badge.svg\" alt=\"Open In Colab\"/></a>"
      ]
    },
    {
      "cell_type": "code",
      "execution_count": 1,
      "metadata": {
        "colab": {
          "base_uri": "https://localhost:8080/"
        },
        "id": "LmCUgNXW4jUU",
        "outputId": "de299b6c-e186-453f-a359-48c1b7677bf4"
      },
      "outputs": [
        {
          "output_type": "stream",
          "name": "stdout",
          "text": [
            "Cloning into 'ultimatevocalremover_api'...\n",
            "remote: Enumerating objects: 511, done.\u001b[K\n",
            "remote: Counting objects: 100% (229/229), done.\u001b[K\n",
            "remote: Compressing objects: 100% (160/160), done.\u001b[K\n",
            "remote: Total 511 (delta 125), reused 144 (delta 69), pack-reused 282\u001b[K\n",
            "Receiving objects: 100% (511/511), 238.10 MiB | 21.69 MiB/s, done.\n",
            "Resolving deltas: 100% (220/220), done.\n"
          ]
        }
      ],
      "source": [
        "!git clone https://github.com/NextAudioGen/ultimatevocalremover_api.git"
      ]
    },
    {
      "cell_type": "code",
      "source": [
        "!cd ultimatevocalremover_api"
      ],
      "metadata": {
        "id": "mXMIprPV4rJH"
      },
      "execution_count": 2,
      "outputs": []
    },
    {
      "cell_type": "code",
      "source": [
        "!pip install /content/ultimatevocalremover_api"
      ],
      "metadata": {
        "colab": {
          "base_uri": "https://localhost:8080/"
        },
        "id": "8uSIwVXg4tTs",
        "outputId": "586d132a-5da9-409a-a18c-6c3d548649aa"
      },
      "execution_count": 1,
      "outputs": [
        {
          "output_type": "stream",
          "name": "stdout",
          "text": [
            "Processing ./ultimatevocalremover_api\n",
            "  Preparing metadata (setup.py) ... \u001b[?25l\u001b[?25hdone\n",
            "Requirement already satisfied: dora-search>=0.1.12 in /usr/local/lib/python3.10/dist-packages (from uvr==0.1) (0.1.12)\n",
            "Requirement already satisfied: diffq>=0.2.1 in /usr/local/lib/python3.10/dist-packages (from uvr==0.1) (0.2.4)\n",
            "Requirement already satisfied: einops in /usr/local/lib/python3.10/dist-packages (from uvr==0.1) (0.8.0)\n",
            "Requirement already satisfied: flake8 in /usr/local/lib/python3.10/dist-packages (from uvr==0.1) (7.1.0)\n",
            "Requirement already satisfied: hydra-colorlog>=1.1 in /usr/local/lib/python3.10/dist-packages (from uvr==0.1) (1.2.0)\n",
            "Requirement already satisfied: hydra-core>=1.1 in /usr/local/lib/python3.10/dist-packages (from uvr==0.1) (1.3.2)\n",
            "Requirement already satisfied: julius>=0.2.3 in /usr/local/lib/python3.10/dist-packages (from uvr==0.1) (0.2.7)\n",
            "Requirement already satisfied: lameenc>=1.2 in /usr/local/lib/python3.10/dist-packages (from uvr==0.1) (1.7.0)\n",
            "Requirement already satisfied: museval in /usr/local/lib/python3.10/dist-packages (from uvr==0.1) (0.4.1)\n",
            "Requirement already satisfied: mypy in /usr/local/lib/python3.10/dist-packages (from uvr==0.1) (1.10.1)\n",
            "Requirement already satisfied: openunmix in /usr/local/lib/python3.10/dist-packages (from uvr==0.1) (1.3.0)\n",
            "Requirement already satisfied: pyyaml in /usr/local/lib/python3.10/dist-packages (from uvr==0.1) (6.0.1)\n",
            "Requirement already satisfied: submitit in /usr/local/lib/python3.10/dist-packages (from uvr==0.1) (1.5.1)\n",
            "Requirement already satisfied: torch>=1.8.1 in /usr/local/lib/python3.10/dist-packages (from uvr==0.1) (2.0.1)\n",
            "Requirement already satisfied: torchaudio<2.1,>=0.8 in /usr/local/lib/python3.10/dist-packages (from uvr==0.1) (2.0.2)\n",
            "Requirement already satisfied: tqdm in /usr/local/lib/python3.10/dist-packages (from uvr==0.1) (4.66.4)\n",
            "Requirement already satisfied: treetable in /usr/local/lib/python3.10/dist-packages (from uvr==0.1) (0.2.5)\n",
            "Requirement already satisfied: soundfile>=0.10.3 in /usr/local/lib/python3.10/dist-packages (from uvr==0.1) (0.12.1)\n",
            "Requirement already satisfied: pytest in /usr/local/lib/python3.10/dist-packages (from uvr==0.1) (7.4.4)\n",
            "Requirement already satisfied: librosa in /usr/local/lib/python3.10/dist-packages (from uvr==0.1) (0.10.2.post1)\n",
            "Requirement already satisfied: audiofile in /usr/local/lib/python3.10/dist-packages (from uvr==0.1) (1.4.0)\n",
            "Requirement already satisfied: pytorch_lightning in /usr/local/lib/python3.10/dist-packages (from uvr==0.1) (2.3.2)\n",
            "Requirement already satisfied: onnxruntime in /usr/local/lib/python3.10/dist-packages (from uvr==0.1) (1.18.1)\n",
            "Requirement already satisfied: onnx in /usr/local/lib/python3.10/dist-packages (from uvr==0.1) (1.16.1)\n",
            "Requirement already satisfied: onnx2pytorch in /usr/local/lib/python3.10/dist-packages (from uvr==0.1) (0.4.1)\n",
            "Requirement already satisfied: ml_collections in /usr/local/lib/python3.10/dist-packages (from uvr==0.1) (0.1.1)\n",
            "Requirement already satisfied: Cython in /usr/local/lib/python3.10/dist-packages (from diffq>=0.2.1->uvr==0.1) (3.0.10)\n",
            "Requirement already satisfied: numpy in /usr/local/lib/python3.10/dist-packages (from diffq>=0.2.1->uvr==0.1) (1.25.2)\n",
            "Requirement already satisfied: omegaconf in /usr/local/lib/python3.10/dist-packages (from dora-search>=0.1.12->uvr==0.1) (2.3.0)\n",
            "Requirement already satisfied: retrying in /usr/local/lib/python3.10/dist-packages (from dora-search>=0.1.12->uvr==0.1) (1.3.4)\n",
            "Requirement already satisfied: colorlog in /usr/local/lib/python3.10/dist-packages (from hydra-colorlog>=1.1->uvr==0.1) (6.8.2)\n",
            "Requirement already satisfied: antlr4-python3-runtime==4.9.* in /usr/local/lib/python3.10/dist-packages (from hydra-core>=1.1->uvr==0.1) (4.9.3)\n",
            "Requirement already satisfied: packaging in /usr/local/lib/python3.10/dist-packages (from hydra-core>=1.1->uvr==0.1) (24.1)\n",
            "Requirement already satisfied: cffi>=1.0 in /usr/local/lib/python3.10/dist-packages (from soundfile>=0.10.3->uvr==0.1) (1.16.0)\n",
            "Requirement already satisfied: filelock in /usr/local/lib/python3.10/dist-packages (from torch>=1.8.1->uvr==0.1) (3.15.4)\n",
            "Requirement already satisfied: typing-extensions in /usr/local/lib/python3.10/dist-packages (from torch>=1.8.1->uvr==0.1) (4.12.2)\n",
            "Requirement already satisfied: sympy in /usr/local/lib/python3.10/dist-packages (from torch>=1.8.1->uvr==0.1) (1.12.1)\n",
            "Requirement already satisfied: networkx in /usr/local/lib/python3.10/dist-packages (from torch>=1.8.1->uvr==0.1) (3.3)\n",
            "Requirement already satisfied: jinja2 in /usr/local/lib/python3.10/dist-packages (from torch>=1.8.1->uvr==0.1) (3.1.4)\n",
            "Requirement already satisfied: nvidia-cuda-nvrtc-cu11==11.7.99 in /usr/local/lib/python3.10/dist-packages (from torch>=1.8.1->uvr==0.1) (11.7.99)\n",
            "Requirement already satisfied: nvidia-cuda-runtime-cu11==11.7.99 in /usr/local/lib/python3.10/dist-packages (from torch>=1.8.1->uvr==0.1) (11.7.99)\n",
            "Requirement already satisfied: nvidia-cuda-cupti-cu11==11.7.101 in /usr/local/lib/python3.10/dist-packages (from torch>=1.8.1->uvr==0.1) (11.7.101)\n",
            "Requirement already satisfied: nvidia-cudnn-cu11==8.5.0.96 in /usr/local/lib/python3.10/dist-packages (from torch>=1.8.1->uvr==0.1) (8.5.0.96)\n",
            "Requirement already satisfied: nvidia-cublas-cu11==11.10.3.66 in /usr/local/lib/python3.10/dist-packages (from torch>=1.8.1->uvr==0.1) (11.10.3.66)\n",
            "Requirement already satisfied: nvidia-cufft-cu11==10.9.0.58 in /usr/local/lib/python3.10/dist-packages (from torch>=1.8.1->uvr==0.1) (10.9.0.58)\n",
            "Requirement already satisfied: nvidia-curand-cu11==10.2.10.91 in /usr/local/lib/python3.10/dist-packages (from torch>=1.8.1->uvr==0.1) (10.2.10.91)\n",
            "Requirement already satisfied: nvidia-cusolver-cu11==11.4.0.1 in /usr/local/lib/python3.10/dist-packages (from torch>=1.8.1->uvr==0.1) (11.4.0.1)\n",
            "Requirement already satisfied: nvidia-cusparse-cu11==11.7.4.91 in /usr/local/lib/python3.10/dist-packages (from torch>=1.8.1->uvr==0.1) (11.7.4.91)\n",
            "Requirement already satisfied: nvidia-nccl-cu11==2.14.3 in /usr/local/lib/python3.10/dist-packages (from torch>=1.8.1->uvr==0.1) (2.14.3)\n",
            "Requirement already satisfied: nvidia-nvtx-cu11==11.7.91 in /usr/local/lib/python3.10/dist-packages (from torch>=1.8.1->uvr==0.1) (11.7.91)\n",
            "Requirement already satisfied: triton==2.0.0 in /usr/local/lib/python3.10/dist-packages (from torch>=1.8.1->uvr==0.1) (2.0.0)\n",
            "Requirement already satisfied: setuptools in /usr/local/lib/python3.10/dist-packages (from nvidia-cublas-cu11==11.10.3.66->torch>=1.8.1->uvr==0.1) (67.7.2)\n",
            "Requirement already satisfied: wheel in /usr/local/lib/python3.10/dist-packages (from nvidia-cublas-cu11==11.10.3.66->torch>=1.8.1->uvr==0.1) (0.43.0)\n",
            "Requirement already satisfied: cmake in /usr/local/lib/python3.10/dist-packages (from triton==2.0.0->torch>=1.8.1->uvr==0.1) (3.27.9)\n",
            "Requirement already satisfied: lit in /usr/local/lib/python3.10/dist-packages (from triton==2.0.0->torch>=1.8.1->uvr==0.1) (18.1.8)\n",
            "Requirement already satisfied: audeer in /usr/local/lib/python3.10/dist-packages (from audiofile->uvr==0.1) (2.1.0)\n",
            "Requirement already satisfied: audmath>=1.3.0 in /usr/local/lib/python3.10/dist-packages (from audiofile->uvr==0.1) (1.4.1)\n",
            "Requirement already satisfied: mccabe<0.8.0,>=0.7.0 in /usr/local/lib/python3.10/dist-packages (from flake8->uvr==0.1) (0.7.0)\n",
            "Requirement already satisfied: pycodestyle<2.13.0,>=2.12.0 in /usr/local/lib/python3.10/dist-packages (from flake8->uvr==0.1) (2.12.0)\n",
            "Requirement already satisfied: pyflakes<3.3.0,>=3.2.0 in /usr/local/lib/python3.10/dist-packages (from flake8->uvr==0.1) (3.2.0)\n",
            "Requirement already satisfied: audioread>=2.1.9 in /usr/local/lib/python3.10/dist-packages (from librosa->uvr==0.1) (3.0.1)\n",
            "Requirement already satisfied: scipy>=1.2.0 in /usr/local/lib/python3.10/dist-packages (from librosa->uvr==0.1) (1.11.4)\n",
            "Requirement already satisfied: scikit-learn>=0.20.0 in /usr/local/lib/python3.10/dist-packages (from librosa->uvr==0.1) (1.2.2)\n",
            "Requirement already satisfied: joblib>=0.14 in /usr/local/lib/python3.10/dist-packages (from librosa->uvr==0.1) (1.4.2)\n",
            "Requirement already satisfied: decorator>=4.3.0 in /usr/local/lib/python3.10/dist-packages (from librosa->uvr==0.1) (4.4.2)\n",
            "Requirement already satisfied: numba>=0.51.0 in /usr/local/lib/python3.10/dist-packages (from librosa->uvr==0.1) (0.58.1)\n",
            "Requirement already satisfied: pooch>=1.1 in /usr/local/lib/python3.10/dist-packages (from librosa->uvr==0.1) (1.8.2)\n",
            "Requirement already satisfied: soxr>=0.3.2 in /usr/local/lib/python3.10/dist-packages (from librosa->uvr==0.1) (0.3.7)\n",
            "Requirement already satisfied: lazy-loader>=0.1 in /usr/local/lib/python3.10/dist-packages (from librosa->uvr==0.1) (0.4)\n",
            "Requirement already satisfied: msgpack>=1.0 in /usr/local/lib/python3.10/dist-packages (from librosa->uvr==0.1) (1.0.8)\n",
            "Requirement already satisfied: absl-py in /usr/local/lib/python3.10/dist-packages (from ml_collections->uvr==0.1) (1.4.0)\n",
            "Requirement already satisfied: six in /usr/local/lib/python3.10/dist-packages (from ml_collections->uvr==0.1) (1.16.0)\n",
            "Requirement already satisfied: contextlib2 in /usr/local/lib/python3.10/dist-packages (from ml_collections->uvr==0.1) (21.6.0)\n",
            "Requirement already satisfied: musdb>=0.4.0 in /usr/local/lib/python3.10/dist-packages (from museval->uvr==0.1) (0.4.2)\n",
            "Requirement already satisfied: pandas>=1.0.1 in /usr/local/lib/python3.10/dist-packages (from museval->uvr==0.1) (2.0.3)\n",
            "Requirement already satisfied: simplejson>=3.19.0 in /usr/local/lib/python3.10/dist-packages (from museval->uvr==0.1) (3.19.2)\n",
            "Requirement already satisfied: jsonschema in /usr/local/lib/python3.10/dist-packages (from museval->uvr==0.1) (4.19.2)\n",
            "Requirement already satisfied: mypy-extensions>=1.0.0 in /usr/local/lib/python3.10/dist-packages (from mypy->uvr==0.1) (1.0.0)\n",
            "Requirement already satisfied: tomli>=1.1.0 in /usr/local/lib/python3.10/dist-packages (from mypy->uvr==0.1) (2.0.1)\n",
            "Requirement already satisfied: protobuf>=3.20.2 in /usr/local/lib/python3.10/dist-packages (from onnx->uvr==0.1) (3.20.3)\n",
            "Requirement already satisfied: torchvision>=0.9.0 in /usr/local/lib/python3.10/dist-packages (from onnx2pytorch->uvr==0.1) (0.15.2)\n",
            "Requirement already satisfied: coloredlogs in /usr/local/lib/python3.10/dist-packages (from onnxruntime->uvr==0.1) (15.0.1)\n",
            "Requirement already satisfied: flatbuffers in /usr/local/lib/python3.10/dist-packages (from onnxruntime->uvr==0.1) (24.3.25)\n",
            "Requirement already satisfied: iniconfig in /usr/local/lib/python3.10/dist-packages (from pytest->uvr==0.1) (2.0.0)\n",
            "Requirement already satisfied: pluggy<2.0,>=0.12 in /usr/local/lib/python3.10/dist-packages (from pytest->uvr==0.1) (1.5.0)\n",
            "Requirement already satisfied: exceptiongroup>=1.0.0rc8 in /usr/local/lib/python3.10/dist-packages (from pytest->uvr==0.1) (1.2.1)\n",
            "Requirement already satisfied: fsspec[http]>=2022.5.0 in /usr/local/lib/python3.10/dist-packages (from pytorch_lightning->uvr==0.1) (2023.6.0)\n",
            "Requirement already satisfied: torchmetrics>=0.7.0 in /usr/local/lib/python3.10/dist-packages (from pytorch_lightning->uvr==0.1) (1.4.0.post0)\n",
            "Requirement already satisfied: lightning-utilities>=0.10.0 in /usr/local/lib/python3.10/dist-packages (from pytorch_lightning->uvr==0.1) (0.11.3.post0)\n",
            "Requirement already satisfied: cloudpickle>=1.2.1 in /usr/local/lib/python3.10/dist-packages (from submitit->uvr==0.1) (2.2.1)\n",
            "Requirement already satisfied: pycparser in /usr/local/lib/python3.10/dist-packages (from cffi>=1.0->soundfile>=0.10.3->uvr==0.1) (2.22)\n",
            "Requirement already satisfied: requests in /usr/local/lib/python3.10/dist-packages (from fsspec[http]>=2022.5.0->pytorch_lightning->uvr==0.1) (2.31.0)\n",
            "Requirement already satisfied: aiohttp!=4.0.0a0,!=4.0.0a1 in /usr/local/lib/python3.10/dist-packages (from fsspec[http]>=2022.5.0->pytorch_lightning->uvr==0.1) (3.9.5)\n",
            "Requirement already satisfied: stempeg>=0.2.3 in /usr/local/lib/python3.10/dist-packages (from musdb>=0.4.0->museval->uvr==0.1) (0.2.3)\n",
            "Requirement already satisfied: pyaml in /usr/local/lib/python3.10/dist-packages (from musdb>=0.4.0->museval->uvr==0.1) (24.4.0)\n",
            "Requirement already satisfied: llvmlite<0.42,>=0.41.0dev0 in /usr/local/lib/python3.10/dist-packages (from numba>=0.51.0->librosa->uvr==0.1) (0.41.1)\n",
            "Requirement already satisfied: python-dateutil>=2.8.2 in /usr/local/lib/python3.10/dist-packages (from pandas>=1.0.1->museval->uvr==0.1) (2.8.2)\n",
            "Requirement already satisfied: pytz>=2020.1 in /usr/local/lib/python3.10/dist-packages (from pandas>=1.0.1->museval->uvr==0.1) (2023.4)\n",
            "Requirement already satisfied: tzdata>=2022.1 in /usr/local/lib/python3.10/dist-packages (from pandas>=1.0.1->museval->uvr==0.1) (2024.1)\n",
            "Requirement already satisfied: platformdirs>=2.5.0 in /usr/local/lib/python3.10/dist-packages (from pooch>=1.1->librosa->uvr==0.1) (4.2.2)\n",
            "Requirement already satisfied: threadpoolctl>=2.0.0 in /usr/local/lib/python3.10/dist-packages (from scikit-learn>=0.20.0->librosa->uvr==0.1) (3.5.0)\n",
            "Requirement already satisfied: pillow!=8.3.*,>=5.3.0 in /usr/local/lib/python3.10/dist-packages (from torchvision>=0.9.0->onnx2pytorch->uvr==0.1) (9.4.0)\n",
            "Requirement already satisfied: humanfriendly>=9.1 in /usr/local/lib/python3.10/dist-packages (from coloredlogs->onnxruntime->uvr==0.1) (10.0)\n",
            "Requirement already satisfied: MarkupSafe>=2.0 in /usr/local/lib/python3.10/dist-packages (from jinja2->torch>=1.8.1->uvr==0.1) (2.1.5)\n",
            "Requirement already satisfied: attrs>=22.2.0 in /usr/local/lib/python3.10/dist-packages (from jsonschema->museval->uvr==0.1) (23.2.0)\n",
            "Requirement already satisfied: jsonschema-specifications>=2023.03.6 in /usr/local/lib/python3.10/dist-packages (from jsonschema->museval->uvr==0.1) (2023.12.1)\n",
            "Requirement already satisfied: referencing>=0.28.4 in /usr/local/lib/python3.10/dist-packages (from jsonschema->museval->uvr==0.1) (0.35.1)\n",
            "Requirement already satisfied: rpds-py>=0.7.1 in /usr/local/lib/python3.10/dist-packages (from jsonschema->museval->uvr==0.1) (0.18.1)\n",
            "Requirement already satisfied: mpmath<1.4.0,>=1.1.0 in /usr/local/lib/python3.10/dist-packages (from sympy->torch>=1.8.1->uvr==0.1) (1.3.0)\n",
            "Requirement already satisfied: aiosignal>=1.1.2 in /usr/local/lib/python3.10/dist-packages (from aiohttp!=4.0.0a0,!=4.0.0a1->fsspec[http]>=2022.5.0->pytorch_lightning->uvr==0.1) (1.3.1)\n",
            "Requirement already satisfied: frozenlist>=1.1.1 in /usr/local/lib/python3.10/dist-packages (from aiohttp!=4.0.0a0,!=4.0.0a1->fsspec[http]>=2022.5.0->pytorch_lightning->uvr==0.1) (1.4.1)\n",
            "Requirement already satisfied: multidict<7.0,>=4.5 in /usr/local/lib/python3.10/dist-packages (from aiohttp!=4.0.0a0,!=4.0.0a1->fsspec[http]>=2022.5.0->pytorch_lightning->uvr==0.1) (6.0.5)\n",
            "Requirement already satisfied: yarl<2.0,>=1.0 in /usr/local/lib/python3.10/dist-packages (from aiohttp!=4.0.0a0,!=4.0.0a1->fsspec[http]>=2022.5.0->pytorch_lightning->uvr==0.1) (1.9.4)\n",
            "Requirement already satisfied: async-timeout<5.0,>=4.0 in /usr/local/lib/python3.10/dist-packages (from aiohttp!=4.0.0a0,!=4.0.0a1->fsspec[http]>=2022.5.0->pytorch_lightning->uvr==0.1) (4.0.3)\n",
            "Requirement already satisfied: charset-normalizer<4,>=2 in /usr/local/lib/python3.10/dist-packages (from requests->fsspec[http]>=2022.5.0->pytorch_lightning->uvr==0.1) (3.3.2)\n",
            "Requirement already satisfied: idna<4,>=2.5 in /usr/local/lib/python3.10/dist-packages (from requests->fsspec[http]>=2022.5.0->pytorch_lightning->uvr==0.1) (3.7)\n",
            "Requirement already satisfied: urllib3<3,>=1.21.1 in /usr/local/lib/python3.10/dist-packages (from requests->fsspec[http]>=2022.5.0->pytorch_lightning->uvr==0.1) (2.0.7)\n",
            "Requirement already satisfied: certifi>=2017.4.17 in /usr/local/lib/python3.10/dist-packages (from requests->fsspec[http]>=2022.5.0->pytorch_lightning->uvr==0.1) (2024.6.2)\n",
            "Requirement already satisfied: ffmpeg-python>=0.2.0 in /usr/local/lib/python3.10/dist-packages (from stempeg>=0.2.3->musdb>=0.4.0->museval->uvr==0.1) (0.2.0)\n",
            "Requirement already satisfied: future in /usr/local/lib/python3.10/dist-packages (from ffmpeg-python>=0.2.0->stempeg>=0.2.3->musdb>=0.4.0->museval->uvr==0.1) (0.18.3)\n",
            "Building wheels for collected packages: uvr\n",
            "  Building wheel for uvr (setup.py) ... \u001b[?25l\u001b[?25hdone\n",
            "  Created wheel for uvr: filename=uvr-0.1-py3-none-any.whl size=253767 sha256=f1b817730b040973c0ee443c9e0a064362df02a8166c20bdfad2d9220456e869\n",
            "  Stored in directory: /tmp/pip-ephem-wheel-cache-i1ghz86q/wheels/77/5d/a4/71f5afa902abbe439c1aa5240738325ed93b83302d46fdd5ec\n",
            "Successfully built uvr\n",
            "Installing collected packages: uvr\n",
            "  Attempting uninstall: uvr\n",
            "    Found existing installation: uvr 0.1\n",
            "    Uninstalling uvr-0.1:\n",
            "      Successfully uninstalled uvr-0.1\n",
            "Successfully installed uvr-0.1\n"
          ]
        }
      ]
    },
    {
      "cell_type": "code",
      "source": [
        "import uvr\n",
        "from uvr import models\n",
        "from uvr.utils.get_models import download_all_models\n",
        "import torch\n",
        "import audiofile\n",
        "import json\n",
        "import os\n",
        "\n",
        "models_json = json.load(open(\"/content/ultimatevocalremover_api/src/models_dir/models.json\", \"r\"))\n",
        "download_all_models(models_json)\n",
        "device = \"cuda\"\n",
        "\n",
        "MDX_Net = models.MDX(name=\"UVR-MDX-NET-Inst_1\", other_metadata={\"segment\":2, \"split\":True}, device=device, logger=None)"
      ],
      "metadata": {
        "colab": {
          "base_uri": "https://localhost:8080/"
        },
        "id": "vY2MqLid6ZiM",
        "outputId": "21c49348-130a-440e-87e9-0b1974513a00"
      },
      "execution_count": 2,
      "outputs": [
        {
          "output_type": "stream",
          "name": "stderr",
          "text": [
            "/usr/local/lib/python3.10/dist-packages/onnx2pytorch/convert/layer.py:30: UserWarning: The given NumPy array is not writable, and PyTorch does not support non-writable tensors. This means writing to this tensor will result in undefined behavior. You may want to copy the array to protect its data or make it writable before converting it to a tensor. This type of warning will be suppressed for the rest of this program. (Triggered internally at ../torch/csrc/utils/tensor_numpy.cpp:206.)\n",
            "  layer.weight.data = torch.from_numpy(numpy_helper.to_array(weight))\n"
          ]
        }
      ]
    },
    {
      "cell_type": "code",
      "source": [
        "# Create one if folder doesn't exist\n",
        "\n",
        "\n",
        "if not os.path.exists(\"ultimatevocalremover_api/input_folder\"):\n",
        "  new_folder_path = os.path.join(\"ultimatevocalremover_api\", \"input_folder\")\n",
        "  os.makedirs(new_folder_path)\n",
        "  print(\"Input folder created\")\n",
        "\n",
        "# Create one if folder doesn't exist\n",
        "if not os.path.exists(\"ultimatevocalremover_api/output_folder\"):\n",
        "  new_folder_path = os.path.join(\"ultimatevocalremover_api\", \"output_folder\")\n",
        "  os.makedirs(new_folder_path)\n",
        "  print(\"Output folder created\")\n",
        "\n",
        "\n",
        "in_folder_path = \"ultimatevocalremover_api/input_folder\"\n",
        "out_folder_path = \"ultimatevocalremover_api/output_folder\""
      ],
      "metadata": {
        "id": "w0d1esgUv1wE"
      },
      "execution_count": 33,
      "outputs": []
    },
    {
      "cell_type": "code",
      "source": [
        "# Iterate over files in the input folder\n",
        "for filename in os.listdir(in_folder_path):\n",
        "    if filename.endswith(\".wav\") or filename.endswith(\".mp3\"):  # Adjust file extensions as needed\n",
        "        file_path = os.path.join(in_folder_path, filename)\n",
        "        res = MDX_Net(file_path)\n",
        "\n",
        "print(res.keys())\n",
        "\n",
        "file_count = 1\n",
        "# Loop through each one of .wav file in the folder.\n",
        "for filename in os.listdir(in_folder_path):\n",
        "  file_path = os.path.join(in_folder_path, filename)\n",
        "  # If the file exists in this folder\n",
        "  if os.path.isfile(file_path):\n",
        "    print(\"reading file\")\n",
        "    # Separate the audio clips using the model stored in \"res\"\n",
        "    speech_separation = res[\"vocals\"]\n",
        "    background_separation = res[\"instrumental\"]\n",
        "\n",
        "    # Write the denoised audio files into output_folder\n",
        "    print(f\"file {file_count} being written\")\n",
        "    audiofile.write(os.path.join(out_folder_path, f\"speech{file_count}.wav\"), speech_separation, 44100)\n",
        "    audiofile.write(os.path.join(out_folder_path, f\"background{file_count}.wav\"), background_separation, 44100)\n",
        "\n",
        "  else:\n",
        "    raise; ValueError(f\"{file_path} doesn't exist\")\n",
        "\n",
        "  file_count += 1\n",
        "\n"
      ],
      "metadata": {
        "id": "SWaejc_1ZxLL",
        "colab": {
          "base_uri": "https://localhost:8080/"
        },
        "outputId": "e0195af6-6948-4d4f-c4db-89e60b165126"
      },
      "execution_count": 36,
      "outputs": [
        {
          "output_type": "stream",
          "name": "stderr",
          "text": [
            "/usr/local/lib/python3.10/dist-packages/uvr/models_dir/mdx/mdx_interface.py:189: UserWarning: To copy construct from a tensor, it is recommended to use sourceTensor.clone().detach() or sourceTensor.clone().detach().requires_grad_(True), rather than torch.tensor(sourceTensor).\n",
            "  return stft.inverse(torch.tensor(spec_pred).to(device)).cpu().detach().numpy()\n",
            "/usr/local/lib/python3.10/dist-packages/uvr/models_dir/mdx/mdx_interface.py:270: RuntimeWarning: invalid value encountered in divide\n",
            "  tar_waves = result / divider\n"
          ]
        },
        {
          "output_type": "stream",
          "name": "stdout",
          "text": [
            "dict_keys(['instrumental', 'vocals'])\n",
            "reading file\n",
            "file 1 being written\n",
            "reading file\n",
            "file 2 being written\n",
            "reading file\n",
            "file 3 being written\n",
            "reading file\n",
            "file 4 being written\n",
            "reading file\n",
            "file 5 being written\n",
            "reading file\n",
            "file 6 being written\n",
            "reading file\n",
            "file 7 being written\n",
            "reading file\n",
            "file 8 being written\n",
            "reading file\n",
            "file 9 being written\n",
            "reading file\n",
            "file 10 being written\n",
            "reading file\n",
            "file 11 being written\n",
            "reading file\n",
            "file 12 being written\n",
            "reading file\n",
            "file 13 being written\n",
            "reading file\n",
            "file 14 being written\n",
            "reading file\n",
            "file 15 being written\n",
            "reading file\n",
            "file 16 being written\n"
          ]
        }
      ]
    }
  ]
}